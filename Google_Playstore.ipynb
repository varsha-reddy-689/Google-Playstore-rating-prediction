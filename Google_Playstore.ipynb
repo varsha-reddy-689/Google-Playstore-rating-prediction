{
  "nbformat": 4,
  "nbformat_minor": 0,
  "metadata": {
    "kernelspec": {
      "display_name": "Python 3",
      "language": "python",
      "name": "python3"
    },
    "language_info": {
      "codemirror_mode": {
        "name": "ipython",
        "version": 3
      },
      "file_extension": ".py",
      "mimetype": "text/x-python",
      "name": "python",
      "nbconvert_exporter": "python",
      "pygments_lexer": "ipython3",
      "version": "3.6.4"
    },
    "colab": {
      "name": "Google Playstore.ipynb",
      "provenance": []
    }
  },
  "cells": [
    {
      "cell_type": "code",
      "metadata": {
        "id": "QKNrTVG_CaFT"
      },
      "source": [
        "import pandas as pd\n",
        "import numpy as np\n",
        "import matplotlib.pyplot as plt\n",
        "import seaborn as sns\n",
        "%matplotlib inline\n",
        "from sklearn import preprocessing\n",
        "from sklearn.preprocessing import LabelEncoder\n",
        "from sklearn.ensemble import RandomForestRegressor\n",
        "from sklearn.model_selection import train_test_split"
      ],
      "execution_count": null,
      "outputs": []
    },
    {
      "cell_type": "code",
      "metadata": {
        "id": "y8vRedTTCaFb"
      },
      "source": [
        "apps=pd.read_csv('googleplaystore.csv')   "
      ],
      "execution_count": null,
      "outputs": []
    },
    {
      "cell_type": "markdown",
      "metadata": {
        "id": "bka5xb5-CaFc"
      },
      "source": [
        "# Data Exploration and Cleaning"
      ]
    },
    {
      "cell_type": "code",
      "metadata": {
        "id": "TWFX9niyCaFd",
        "outputId": "3b660117-33ce-4bd9-efaa-5e6b5248dcaf"
      },
      "source": [
        "apps.shape"
      ],
      "execution_count": null,
      "outputs": [
        {
          "output_type": "execute_result",
          "data": {
            "text/plain": [
              "(10841, 13)"
            ]
          },
          "metadata": {
            "tags": []
          },
          "execution_count": 3
        }
      ]
    },
    {
      "cell_type": "code",
      "metadata": {
        "id": "Y_BtPfL4CaFf",
        "outputId": "fde78d98-2200-4afe-e115-f8066d6e5d0d"
      },
      "source": [
        "apps.head(5)"
      ],
      "execution_count": null,
      "outputs": [
        {
          "output_type": "execute_result",
          "data": {
            "text/html": [
              "<div>\n",
              "<style scoped>\n",
              "    .dataframe tbody tr th:only-of-type {\n",
              "        vertical-align: middle;\n",
              "    }\n",
              "\n",
              "    .dataframe tbody tr th {\n",
              "        vertical-align: top;\n",
              "    }\n",
              "\n",
              "    .dataframe thead th {\n",
              "        text-align: right;\n",
              "    }\n",
              "</style>\n",
              "<table border=\"1\" class=\"dataframe\">\n",
              "  <thead>\n",
              "    <tr style=\"text-align: right;\">\n",
              "      <th></th>\n",
              "      <th>App</th>\n",
              "      <th>Category</th>\n",
              "      <th>Rating</th>\n",
              "      <th>Reviews</th>\n",
              "      <th>Size</th>\n",
              "      <th>Installs</th>\n",
              "      <th>Type</th>\n",
              "      <th>Price</th>\n",
              "      <th>Content Rating</th>\n",
              "      <th>Genres</th>\n",
              "      <th>Last Updated</th>\n",
              "      <th>Current Ver</th>\n",
              "      <th>Android Ver</th>\n",
              "    </tr>\n",
              "  </thead>\n",
              "  <tbody>\n",
              "    <tr>\n",
              "      <th>0</th>\n",
              "      <td>Photo Editor &amp; Candy Camera &amp; Grid &amp; ScrapBook</td>\n",
              "      <td>ART_AND_DESIGN</td>\n",
              "      <td>4.1</td>\n",
              "      <td>159</td>\n",
              "      <td>19M</td>\n",
              "      <td>10,000+</td>\n",
              "      <td>Free</td>\n",
              "      <td>0</td>\n",
              "      <td>Everyone</td>\n",
              "      <td>Art &amp; Design</td>\n",
              "      <td>January 7, 2018</td>\n",
              "      <td>1.0.0</td>\n",
              "      <td>4.0.3 and up</td>\n",
              "    </tr>\n",
              "    <tr>\n",
              "      <th>1</th>\n",
              "      <td>Coloring book moana</td>\n",
              "      <td>ART_AND_DESIGN</td>\n",
              "      <td>3.9</td>\n",
              "      <td>967</td>\n",
              "      <td>14M</td>\n",
              "      <td>500,000+</td>\n",
              "      <td>Free</td>\n",
              "      <td>0</td>\n",
              "      <td>Everyone</td>\n",
              "      <td>Art &amp; Design;Pretend Play</td>\n",
              "      <td>January 15, 2018</td>\n",
              "      <td>2.0.0</td>\n",
              "      <td>4.0.3 and up</td>\n",
              "    </tr>\n",
              "    <tr>\n",
              "      <th>2</th>\n",
              "      <td>U Launcher Lite – FREE Live Cool Themes, Hide ...</td>\n",
              "      <td>ART_AND_DESIGN</td>\n",
              "      <td>4.7</td>\n",
              "      <td>87510</td>\n",
              "      <td>8.7M</td>\n",
              "      <td>5,000,000+</td>\n",
              "      <td>Free</td>\n",
              "      <td>0</td>\n",
              "      <td>Everyone</td>\n",
              "      <td>Art &amp; Design</td>\n",
              "      <td>August 1, 2018</td>\n",
              "      <td>1.2.4</td>\n",
              "      <td>4.0.3 and up</td>\n",
              "    </tr>\n",
              "    <tr>\n",
              "      <th>3</th>\n",
              "      <td>Sketch - Draw &amp; Paint</td>\n",
              "      <td>ART_AND_DESIGN</td>\n",
              "      <td>4.5</td>\n",
              "      <td>215644</td>\n",
              "      <td>25M</td>\n",
              "      <td>50,000,000+</td>\n",
              "      <td>Free</td>\n",
              "      <td>0</td>\n",
              "      <td>Teen</td>\n",
              "      <td>Art &amp; Design</td>\n",
              "      <td>June 8, 2018</td>\n",
              "      <td>Varies with device</td>\n",
              "      <td>4.2 and up</td>\n",
              "    </tr>\n",
              "    <tr>\n",
              "      <th>4</th>\n",
              "      <td>Pixel Draw - Number Art Coloring Book</td>\n",
              "      <td>ART_AND_DESIGN</td>\n",
              "      <td>4.3</td>\n",
              "      <td>967</td>\n",
              "      <td>2.8M</td>\n",
              "      <td>100,000+</td>\n",
              "      <td>Free</td>\n",
              "      <td>0</td>\n",
              "      <td>Everyone</td>\n",
              "      <td>Art &amp; Design;Creativity</td>\n",
              "      <td>June 20, 2018</td>\n",
              "      <td>1.1</td>\n",
              "      <td>4.4 and up</td>\n",
              "    </tr>\n",
              "  </tbody>\n",
              "</table>\n",
              "</div>"
            ],
            "text/plain": [
              "                                                 App        Category  Rating  \\\n",
              "0     Photo Editor & Candy Camera & Grid & ScrapBook  ART_AND_DESIGN     4.1   \n",
              "1                                Coloring book moana  ART_AND_DESIGN     3.9   \n",
              "2  U Launcher Lite – FREE Live Cool Themes, Hide ...  ART_AND_DESIGN     4.7   \n",
              "3                              Sketch - Draw & Paint  ART_AND_DESIGN     4.5   \n",
              "4              Pixel Draw - Number Art Coloring Book  ART_AND_DESIGN     4.3   \n",
              "\n",
              "  Reviews  Size     Installs  Type Price Content Rating  \\\n",
              "0     159   19M      10,000+  Free     0       Everyone   \n",
              "1     967   14M     500,000+  Free     0       Everyone   \n",
              "2   87510  8.7M   5,000,000+  Free     0       Everyone   \n",
              "3  215644   25M  50,000,000+  Free     0           Teen   \n",
              "4     967  2.8M     100,000+  Free     0       Everyone   \n",
              "\n",
              "                      Genres      Last Updated         Current Ver  \\\n",
              "0               Art & Design   January 7, 2018               1.0.0   \n",
              "1  Art & Design;Pretend Play  January 15, 2018               2.0.0   \n",
              "2               Art & Design    August 1, 2018               1.2.4   \n",
              "3               Art & Design      June 8, 2018  Varies with device   \n",
              "4    Art & Design;Creativity     June 20, 2018                 1.1   \n",
              "\n",
              "    Android Ver  \n",
              "0  4.0.3 and up  \n",
              "1  4.0.3 and up  \n",
              "2  4.0.3 and up  \n",
              "3    4.2 and up  \n",
              "4    4.4 and up  "
            ]
          },
          "metadata": {
            "tags": []
          },
          "execution_count": 4
        }
      ]
    },
    {
      "cell_type": "code",
      "metadata": {
        "id": "y_t_MrqyCaFg",
        "outputId": "a28c3613-2453-4bde-fa0b-f9994533de75"
      },
      "source": [
        "apps.info()"
      ],
      "execution_count": null,
      "outputs": [
        {
          "output_type": "stream",
          "text": [
            "<class 'pandas.core.frame.DataFrame'>\n",
            "RangeIndex: 10841 entries, 0 to 10840\n",
            "Data columns (total 13 columns):\n",
            "App               10841 non-null object\n",
            "Category          10841 non-null object\n",
            "Rating            9367 non-null float64\n",
            "Reviews           10841 non-null object\n",
            "Size              10841 non-null object\n",
            "Installs          10841 non-null object\n",
            "Type              10840 non-null object\n",
            "Price             10841 non-null object\n",
            "Content Rating    10840 non-null object\n",
            "Genres            10841 non-null object\n",
            "Last Updated      10841 non-null object\n",
            "Current Ver       10833 non-null object\n",
            "Android Ver       10838 non-null object\n",
            "dtypes: float64(1), object(12)\n",
            "memory usage: 1.1+ MB\n"
          ],
          "name": "stdout"
        }
      ]
    },
    {
      "cell_type": "markdown",
      "metadata": {
        "id": "fYv1HmoQCaFi"
      },
      "source": [
        "# There are 10841 uncleaned samples for analysis with 13 columns. Only the Ratings column is represented as numeric. Other  columns need to be worked on"
      ]
    },
    {
      "cell_type": "code",
      "metadata": {
        "id": "5DH7gcRuCaFi",
        "outputId": "9edbb7d5-c1e7-46de-fe5a-daed96bedc8d"
      },
      "source": [
        "apps['App'].value_counts()"
      ],
      "execution_count": null,
      "outputs": [
        {
          "output_type": "execute_result",
          "data": {
            "text/plain": [
              "ROBLOX                                                9\n",
              "CBS Sports App - Scores, News, Stats & Watch Live     8\n",
              "ESPN                                                  7\n",
              "Duolingo: Learn Languages Free                        7\n",
              "8 Ball Pool                                           7\n",
              "Candy Crush Saga                                      7\n",
              "Zombie Catchers                                       6\n",
              "Sniper 3D Gun Shooter: Free Shooting Games - FPS      6\n",
              "Bowmasters                                            6\n",
              "Temple Run 2                                          6\n",
              "Nick                                                  6\n",
              "Helix Jump                                            6\n",
              "Subway Surfers                                        6\n",
              "slither.io                                            6\n",
              "Bleacher Report: sports news, scores, & highlights    6\n",
              "Bubble Shooter                                        6\n",
              "Skyscanner                                            5\n",
              "MLB At Bat                                            5\n",
              "Granny                                                5\n",
              "Viber Messenger                                       5\n",
              "theScore: Live Sports Scores, News, Stats & Videos    5\n",
              "Netflix                                               5\n",
              "Wish - Shopping Made Fun                              5\n",
              "Flow Free                                             5\n",
              "BeautyPlus - Easy Photo Editor & Selfie Camera        5\n",
              "Zombie Tsunami                                        5\n",
              "Yahoo Fantasy Sports - #1 Rated Fantasy App           5\n",
              "TripAdvisor Hotels Flights Restaurants Attractions    5\n",
              "Angry Birds Classic                                   5\n",
              "Plants vs. Zombies FREE                               5\n",
              "                                                     ..\n",
              "MD PAWS AH                                            1\n",
              "ERres- Emergency Medicine                             1\n",
              "FD Mobile                                             1\n",
              "AE Bulletins                                          1\n",
              "Bitmoji – Your Personal Emoji                         1\n",
              "CI Attendance                                         1\n",
              "Numbers Into Words                                    1\n",
              "Words (188 Category)                                  1\n",
              "NAVITIME - Map & Transfer Navi                        1\n",
              "Florida Travel Guide - TOURIAS                        1\n",
              "The Gang Sniper V. Pocket Edition.                    1\n",
              "Professor Online SEDUC-CE                             1\n",
              "Moment                                                1\n",
              "DC Universe Online Map                                1\n",
              "BI Barcode Scanner                                    1\n",
              "Anime Expo 2018                                       1\n",
              "San Andreas City : Auto Theft Car gangster            1\n",
              "BBWCupid - BBW Dating App                             1\n",
              "Delivery yogi.                                        1\n",
              "BluTV                                                 1\n",
              "BP Tracker-Symptoms & Solution                        1\n",
              "Tap The Easter Egg!                                   1\n",
              "B Tiff Viewer                                         1\n",
              "FO Interim                                            1\n",
              "Ghost Detector                                        1\n",
              "Hitman GO                                             1\n",
              "Bluetooth Auto Connect                                1\n",
              "BW-Joseki                                             1\n",
              "Metal Detector Pro 2015                               1\n",
              "Friend Find: free chat + flirt dating app             1\n",
              "Name: App, Length: 9660, dtype: int64"
            ]
          },
          "metadata": {
            "tags": []
          },
          "execution_count": 6
        }
      ]
    },
    {
      "cell_type": "code",
      "metadata": {
        "id": "8n43SC5ICaFj"
      },
      "source": [
        "apps['Reviews']=pd.to_numeric(apps.Reviews, errors = 'coerce') #convert reviews that is object to the numeric values"
      ],
      "execution_count": null,
      "outputs": []
    },
    {
      "cell_type": "code",
      "metadata": {
        "id": "J925Gh0mCaFk",
        "outputId": "f93cfc5b-99d0-4ed6-fba3-d15d65fcba93"
      },
      "source": [
        "apps.info()"
      ],
      "execution_count": null,
      "outputs": [
        {
          "output_type": "stream",
          "text": [
            "<class 'pandas.core.frame.DataFrame'>\n",
            "RangeIndex: 10841 entries, 0 to 10840\n",
            "Data columns (total 13 columns):\n",
            "App               10841 non-null object\n",
            "Category          10841 non-null object\n",
            "Rating            9367 non-null float64\n",
            "Reviews           10840 non-null float64\n",
            "Size              10841 non-null object\n",
            "Installs          10841 non-null object\n",
            "Type              10840 non-null object\n",
            "Price             10841 non-null object\n",
            "Content Rating    10840 non-null object\n",
            "Genres            10841 non-null object\n",
            "Last Updated      10841 non-null object\n",
            "Current Ver       10833 non-null object\n",
            "Android Ver       10838 non-null object\n",
            "dtypes: float64(2), object(11)\n",
            "memory usage: 1.1+ MB\n"
          ],
          "name": "stdout"
        }
      ]
    },
    {
      "cell_type": "code",
      "metadata": {
        "id": "CNRiEzXuCaFl"
      },
      "source": [
        "apps1=apps.drop_duplicates('App',keep='last').sort_values('Reviews')#drop those apps which have the same name and keep only those apps which have the highest reviews"
      ],
      "execution_count": null,
      "outputs": []
    },
    {
      "cell_type": "code",
      "metadata": {
        "id": "fAJ2CSvdCaFp",
        "outputId": "28544e18-34e4-460b-8b48-a6c2b1f1e982"
      },
      "source": [
        "apps1['App'].value_counts()  #only unique app is present"
      ],
      "execution_count": null,
      "outputs": [
        {
          "output_type": "execute_result",
          "data": {
            "text/plain": [
              "SH Script Runner                                      1\n",
              "Them Bombs: co-op board game play with 2-4 friends    1\n",
              "Sahadan Live Scores                                   1\n",
              "Power Rangers: Legacy Wars                            1\n",
              "EP RSS Reader                                         1\n",
              "BZ-Digital                                            1\n",
              "Company Kitchen                                       1\n",
              "AG Track                                              1\n",
              "Wheretoget: Shop in style                             1\n",
              "Map My Fitness Workout Trainer                        1\n",
              "Google Korean Input                                   1\n",
              "FK Crvena zvezda                                      1\n",
              "Facial Wrinkle Reduction                              1\n",
              "DP and Status Images | All Latest Status 2018         1\n",
              "Weather –Simple weather forecast                      1\n",
              "Signal Spy - Monitor Signal Strength & Data Usage     1\n",
              "Zombie War Z : Hero Survival Rules                    1\n",
              "Archos File Manager                                   1\n",
              "Fancy Widgets                                         1\n",
              "LinkedIn Learning: Online Courses to Learn Skills     1\n",
              "CX North America                                      1\n",
              "Vudu Movies & TV                                      1\n",
              "Cochrane Library                                      1\n",
              "Random Love (BF)                                      1\n",
              "Girls Nancy Ajram Without Net                         1\n",
              "CP Calculator                                         1\n",
              "FL Lottery Results                                    1\n",
              "Axe Champ                                             1\n",
              "CS Browser | #1 & BEST BROWSER                        1\n",
              "ClanManagerTT2                                        1\n",
              "                                                     ..\n",
              "Home Workout for Men - Bodybuilding                   1\n",
              "CP evolution calculator Pokemo                        1\n",
              "Dulquer Salmaan HD Wallpapers                         1\n",
              "SmartNews: Breaking News Headlines                    1\n",
              "Don't touch my phone                                  1\n",
              "Movie DB                                              1\n",
              "ASOS                                                  1\n",
              "Meet4U - Chat, Love, Singles!                         1\n",
              "QuickPic - Photo Gallery with Google Drive Support    1\n",
              "All Language Translator                               1\n",
              "El Laberinto del Demonio 3D                           1\n",
              "Luxy Pro- Elite Dating Single                         1\n",
              "CAPTCHA Pack for Sleep as Android                     1\n",
              "BW App                                                1\n",
              "AJ Blue Icon Pack                                     1\n",
              "Bihar Land Records - RoR and EB Quick Pay             1\n",
              "BURGER KING® Puerto Rico                              1\n",
              "PlusOne                                               1\n",
              "Christian Dating For Free App                         1\n",
              "EP Chain Reaction                                     1\n",
              "CJmall                                                1\n",
              "Learn C++                                             1\n",
              "AH! Soundboard                                        1\n",
              "Hojiboy Tojiboyev Life Hacks                          1\n",
              "Receipt Hog - Receipts to Cash                        1\n",
              "CG Vidhansabha Chunav 2018                            1\n",
              "DS                                                    1\n",
              "Fat Burning Workout - Home Weight lose                1\n",
              "BlueJeans for Android                                 1\n",
              "Mobizen Screen Recorder for LG - Record, Capture      1\n",
              "Name: App, Length: 9660, dtype: int64"
            ]
          },
          "metadata": {
            "tags": []
          },
          "execution_count": 10
        }
      ]
    },
    {
      "cell_type": "code",
      "metadata": {
        "id": "Mmk8XtoFCaFq",
        "outputId": "b50959cf-a9d6-4fc8-ccc6-ac1d4f9d4831"
      },
      "source": [
        "apps1.shape"
      ],
      "execution_count": null,
      "outputs": [
        {
          "output_type": "execute_result",
          "data": {
            "text/plain": [
              "(9660, 13)"
            ]
          },
          "metadata": {
            "tags": []
          },
          "execution_count": 11
        }
      ]
    },
    {
      "cell_type": "code",
      "metadata": {
        "id": "qDI7br2LCaFr"
      },
      "source": [
        "apps1['Installs'] = apps1.Installs.str.replace('+', '')    #replace \"+\" and \",\" with \" \"\n",
        "apps1['Installs'] = apps1.Installs.str.replace(',', '')"
      ],
      "execution_count": null,
      "outputs": []
    },
    {
      "cell_type": "code",
      "metadata": {
        "id": "2_uxCgzfCaFs",
        "outputId": "40ee0a0e-252a-4660-b14c-5a266ddad1a7"
      },
      "source": [
        "apps1.head(10)"
      ],
      "execution_count": null,
      "outputs": [
        {
          "output_type": "execute_result",
          "data": {
            "text/html": [
              "<div>\n",
              "<style scoped>\n",
              "    .dataframe tbody tr th:only-of-type {\n",
              "        vertical-align: middle;\n",
              "    }\n",
              "\n",
              "    .dataframe tbody tr th {\n",
              "        vertical-align: top;\n",
              "    }\n",
              "\n",
              "    .dataframe thead th {\n",
              "        text-align: right;\n",
              "    }\n",
              "</style>\n",
              "<table border=\"1\" class=\"dataframe\">\n",
              "  <thead>\n",
              "    <tr style=\"text-align: right;\">\n",
              "      <th></th>\n",
              "      <th>App</th>\n",
              "      <th>Category</th>\n",
              "      <th>Rating</th>\n",
              "      <th>Reviews</th>\n",
              "      <th>Size</th>\n",
              "      <th>Installs</th>\n",
              "      <th>Type</th>\n",
              "      <th>Price</th>\n",
              "      <th>Content Rating</th>\n",
              "      <th>Genres</th>\n",
              "      <th>Last Updated</th>\n",
              "      <th>Current Ver</th>\n",
              "      <th>Android Ver</th>\n",
              "    </tr>\n",
              "  </thead>\n",
              "  <tbody>\n",
              "    <tr>\n",
              "      <th>8872</th>\n",
              "      <td>Eat Right Diet (by Dt Shreya's Family Diet Cli...</td>\n",
              "      <td>HEALTH_AND_FITNESS</td>\n",
              "      <td>NaN</td>\n",
              "      <td>0.0</td>\n",
              "      <td>12M</td>\n",
              "      <td>10</td>\n",
              "      <td>Free</td>\n",
              "      <td>0</td>\n",
              "      <td>Everyone</td>\n",
              "      <td>Health &amp; Fitness</td>\n",
              "      <td>August 7, 2018</td>\n",
              "      <td>1.0.7</td>\n",
              "      <td>5.0 and up</td>\n",
              "    </tr>\n",
              "    <tr>\n",
              "      <th>7440</th>\n",
              "      <td>C J Academy</td>\n",
              "      <td>FAMILY</td>\n",
              "      <td>NaN</td>\n",
              "      <td>0.0</td>\n",
              "      <td>5.2M</td>\n",
              "      <td>10</td>\n",
              "      <td>Free</td>\n",
              "      <td>0</td>\n",
              "      <td>Everyone</td>\n",
              "      <td>Education</td>\n",
              "      <td>April 2, 2018</td>\n",
              "      <td>1.0</td>\n",
              "      <td>4.4 and up</td>\n",
              "    </tr>\n",
              "    <tr>\n",
              "      <th>627</th>\n",
              "      <td>CAM5678 Video Chat</td>\n",
              "      <td>DATING</td>\n",
              "      <td>NaN</td>\n",
              "      <td>0.0</td>\n",
              "      <td>39M</td>\n",
              "      <td>500</td>\n",
              "      <td>Free</td>\n",
              "      <td>0</td>\n",
              "      <td>Mature 17+</td>\n",
              "      <td>Dating</td>\n",
              "      <td>July 13, 2018</td>\n",
              "      <td>5.5.8</td>\n",
              "      <td>4.0.3 and up</td>\n",
              "    </tr>\n",
              "    <tr>\n",
              "      <th>628</th>\n",
              "      <td>Video chat live advices</td>\n",
              "      <td>DATING</td>\n",
              "      <td>NaN</td>\n",
              "      <td>0.0</td>\n",
              "      <td>8.0M</td>\n",
              "      <td>100</td>\n",
              "      <td>Free</td>\n",
              "      <td>0</td>\n",
              "      <td>Everyone</td>\n",
              "      <td>Dating</td>\n",
              "      <td>July 10, 2018</td>\n",
              "      <td>1.0</td>\n",
              "      <td>3.0 and up</td>\n",
              "    </tr>\n",
              "    <tr>\n",
              "      <th>9910</th>\n",
              "      <td>EU RCD Guide</td>\n",
              "      <td>BOOKS_AND_REFERENCE</td>\n",
              "      <td>NaN</td>\n",
              "      <td>0.0</td>\n",
              "      <td>45M</td>\n",
              "      <td>10</td>\n",
              "      <td>Paid</td>\n",
              "      <td>$3.61</td>\n",
              "      <td>Everyone</td>\n",
              "      <td>Books &amp; Reference</td>\n",
              "      <td>June 29, 2016</td>\n",
              "      <td>2.0</td>\n",
              "      <td>4.0 and up</td>\n",
              "    </tr>\n",
              "    <tr>\n",
              "      <th>630</th>\n",
              "      <td>Pet Lovers Dating</td>\n",
              "      <td>DATING</td>\n",
              "      <td>NaN</td>\n",
              "      <td>0.0</td>\n",
              "      <td>14M</td>\n",
              "      <td>10</td>\n",
              "      <td>Free</td>\n",
              "      <td>0</td>\n",
              "      <td>Mature 17+</td>\n",
              "      <td>Dating</td>\n",
              "      <td>July 9, 2018</td>\n",
              "      <td>1.0</td>\n",
              "      <td>4.1 and up</td>\n",
              "    </tr>\n",
              "    <tr>\n",
              "      <th>7445</th>\n",
              "      <td>CJ Infinity</td>\n",
              "      <td>FOOD_AND_DRINK</td>\n",
              "      <td>NaN</td>\n",
              "      <td>0.0</td>\n",
              "      <td>16M</td>\n",
              "      <td>10</td>\n",
              "      <td>Free</td>\n",
              "      <td>0</td>\n",
              "      <td>Everyone</td>\n",
              "      <td>Food &amp; Drink</td>\n",
              "      <td>January 5, 2018</td>\n",
              "      <td>1.1</td>\n",
              "      <td>4.1 and up</td>\n",
              "    </tr>\n",
              "    <tr>\n",
              "      <th>632</th>\n",
              "      <td>Latin Dating</td>\n",
              "      <td>DATING</td>\n",
              "      <td>NaN</td>\n",
              "      <td>0.0</td>\n",
              "      <td>13M</td>\n",
              "      <td>10</td>\n",
              "      <td>Free</td>\n",
              "      <td>0</td>\n",
              "      <td>Mature 17+</td>\n",
              "      <td>Dating</td>\n",
              "      <td>July 9, 2018</td>\n",
              "      <td>1.0</td>\n",
              "      <td>4.1 and up</td>\n",
              "    </tr>\n",
              "    <tr>\n",
              "      <th>7447</th>\n",
              "      <td>CJ IT ApS</td>\n",
              "      <td>BUSINESS</td>\n",
              "      <td>NaN</td>\n",
              "      <td>0.0</td>\n",
              "      <td>18M</td>\n",
              "      <td>10</td>\n",
              "      <td>Free</td>\n",
              "      <td>0</td>\n",
              "      <td>Everyone</td>\n",
              "      <td>Business</td>\n",
              "      <td>July 2, 2015</td>\n",
              "      <td>1.31.62.109</td>\n",
              "      <td>4.0 and up</td>\n",
              "    </tr>\n",
              "    <tr>\n",
              "      <th>7448</th>\n",
              "      <td>CJ Auto école</td>\n",
              "      <td>FAMILY</td>\n",
              "      <td>NaN</td>\n",
              "      <td>0.0</td>\n",
              "      <td>12M</td>\n",
              "      <td>50</td>\n",
              "      <td>Free</td>\n",
              "      <td>0</td>\n",
              "      <td>Everyone</td>\n",
              "      <td>Education</td>\n",
              "      <td>June 24, 2014</td>\n",
              "      <td>1.0</td>\n",
              "      <td>2.2 and up</td>\n",
              "    </tr>\n",
              "  </tbody>\n",
              "</table>\n",
              "</div>"
            ],
            "text/plain": [
              "                                                    App             Category  \\\n",
              "8872  Eat Right Diet (by Dt Shreya's Family Diet Cli...   HEALTH_AND_FITNESS   \n",
              "7440                                        C J Academy               FAMILY   \n",
              "627                                  CAM5678 Video Chat               DATING   \n",
              "628                             Video chat live advices               DATING   \n",
              "9910                                       EU RCD Guide  BOOKS_AND_REFERENCE   \n",
              "630                                   Pet Lovers Dating               DATING   \n",
              "7445                                        CJ Infinity       FOOD_AND_DRINK   \n",
              "632                                        Latin Dating               DATING   \n",
              "7447                                          CJ IT ApS             BUSINESS   \n",
              "7448                                      CJ Auto école               FAMILY   \n",
              "\n",
              "      Rating  Reviews  Size Installs  Type  Price Content Rating  \\\n",
              "8872     NaN      0.0   12M       10  Free      0       Everyone   \n",
              "7440     NaN      0.0  5.2M       10  Free      0       Everyone   \n",
              "627      NaN      0.0   39M      500  Free      0     Mature 17+   \n",
              "628      NaN      0.0  8.0M      100  Free      0       Everyone   \n",
              "9910     NaN      0.0   45M       10  Paid  $3.61       Everyone   \n",
              "630      NaN      0.0   14M       10  Free      0     Mature 17+   \n",
              "7445     NaN      0.0   16M       10  Free      0       Everyone   \n",
              "632      NaN      0.0   13M       10  Free      0     Mature 17+   \n",
              "7447     NaN      0.0   18M       10  Free      0       Everyone   \n",
              "7448     NaN      0.0   12M       50  Free      0       Everyone   \n",
              "\n",
              "                 Genres     Last Updated  Current Ver   Android Ver  \n",
              "8872   Health & Fitness   August 7, 2018        1.0.7    5.0 and up  \n",
              "7440          Education    April 2, 2018          1.0    4.4 and up  \n",
              "627              Dating    July 13, 2018        5.5.8  4.0.3 and up  \n",
              "628              Dating    July 10, 2018          1.0    3.0 and up  \n",
              "9910  Books & Reference    June 29, 2016          2.0    4.0 and up  \n",
              "630              Dating     July 9, 2018          1.0    4.1 and up  \n",
              "7445       Food & Drink  January 5, 2018          1.1    4.1 and up  \n",
              "632              Dating     July 9, 2018          1.0    4.1 and up  \n",
              "7447           Business     July 2, 2015  1.31.62.109    4.0 and up  \n",
              "7448          Education    June 24, 2014          1.0    2.2 and up  "
            ]
          },
          "metadata": {
            "tags": []
          },
          "execution_count": 13
        }
      ]
    },
    {
      "cell_type": "code",
      "metadata": {
        "id": "939bRhhXCaFs"
      },
      "source": [
        "apps1['Installs'] = pd.to_numeric(apps1['Installs'],errors = 'coerce')  #convert object to numeric"
      ],
      "execution_count": null,
      "outputs": []
    },
    {
      "cell_type": "code",
      "metadata": {
        "id": "JH2iJx1bCaFt",
        "outputId": "edb8ba44-6e49-44c6-e4be-b343094ee30e"
      },
      "source": [
        "apps1.info()"
      ],
      "execution_count": null,
      "outputs": [
        {
          "output_type": "stream",
          "text": [
            "<class 'pandas.core.frame.DataFrame'>\n",
            "Int64Index: 9660 entries, 8872 to 10472\n",
            "Data columns (total 13 columns):\n",
            "App               9660 non-null object\n",
            "Category          9660 non-null object\n",
            "Rating            8197 non-null float64\n",
            "Reviews           9659 non-null float64\n",
            "Size              9660 non-null object\n",
            "Installs          9659 non-null float64\n",
            "Type              9659 non-null object\n",
            "Price             9660 non-null object\n",
            "Content Rating    9659 non-null object\n",
            "Genres            9660 non-null object\n",
            "Last Updated      9660 non-null object\n",
            "Current Ver       9652 non-null object\n",
            "Android Ver       9657 non-null object\n",
            "dtypes: float64(3), object(10)\n",
            "memory usage: 1.0+ MB\n"
          ],
          "name": "stdout"
        }
      ]
    },
    {
      "cell_type": "code",
      "metadata": {
        "id": "Hx7GdFfLCaFu",
        "outputId": "11175857-6992-4d89-c9f6-9248c3c5e8c9"
      },
      "source": [
        "apps1.shape"
      ],
      "execution_count": null,
      "outputs": [
        {
          "output_type": "execute_result",
          "data": {
            "text/plain": [
              "(9660, 13)"
            ]
          },
          "metadata": {
            "tags": []
          },
          "execution_count": 16
        }
      ]
    },
    {
      "cell_type": "code",
      "metadata": {
        "id": "AcK_bYk0CaFv",
        "outputId": "8d7c2734-f6dc-4515-a613-2856e120bbc2"
      },
      "source": [
        "apps1.columns"
      ],
      "execution_count": null,
      "outputs": [
        {
          "output_type": "execute_result",
          "data": {
            "text/plain": [
              "Index(['App', 'Category', 'Rating', 'Reviews', 'Size', 'Installs', 'Type',\n",
              "       'Price', 'Content Rating', 'Genres', 'Last Updated', 'Current Ver',\n",
              "       'Android Ver'],\n",
              "      dtype='object')"
            ]
          },
          "metadata": {
            "tags": []
          },
          "execution_count": 17
        }
      ]
    },
    {
      "cell_type": "code",
      "metadata": {
        "id": "Avzhm6Z7CaFw"
      },
      "source": [
        "apps1['Price']=apps1.Price.str.replace('$','') #replace '$' with null"
      ],
      "execution_count": null,
      "outputs": []
    },
    {
      "cell_type": "code",
      "metadata": {
        "id": "FO3OL18iCaFx"
      },
      "source": [
        "apps1['Price']=pd.to_numeric(apps1.Price, errors = 'coerce')#covert the price that is object to numeric values"
      ],
      "execution_count": null,
      "outputs": []
    },
    {
      "cell_type": "code",
      "metadata": {
        "id": "ASYcxaZjCaFy",
        "outputId": "f30fad4c-57ef-4292-b921-0aba6bfcac13"
      },
      "source": [
        "apps1.info()"
      ],
      "execution_count": null,
      "outputs": [
        {
          "output_type": "stream",
          "text": [
            "<class 'pandas.core.frame.DataFrame'>\n",
            "Int64Index: 9660 entries, 8872 to 10472\n",
            "Data columns (total 13 columns):\n",
            "App               9660 non-null object\n",
            "Category          9660 non-null object\n",
            "Rating            8197 non-null float64\n",
            "Reviews           9659 non-null float64\n",
            "Size              9660 non-null object\n",
            "Installs          9659 non-null float64\n",
            "Type              9659 non-null object\n",
            "Price             9659 non-null float64\n",
            "Content Rating    9659 non-null object\n",
            "Genres            9660 non-null object\n",
            "Last Updated      9660 non-null object\n",
            "Current Ver       9652 non-null object\n",
            "Android Ver       9657 non-null object\n",
            "dtypes: float64(4), object(9)\n",
            "memory usage: 1.0+ MB\n"
          ],
          "name": "stdout"
        }
      ]
    },
    {
      "cell_type": "code",
      "metadata": {
        "scrolled": true,
        "id": "M8794mgNCaFz",
        "outputId": "8aa5d996-f4c2-4d6f-db1b-ad71a3daa05e"
      },
      "source": [
        "apps1['Size'].value_counts()"
      ],
      "execution_count": null,
      "outputs": [
        {
          "output_type": "execute_result",
          "data": {
            "text/plain": [
              "Varies with device    1227\n",
              "11M                    182\n",
              "12M                    181\n",
              "14M                    177\n",
              "13M                    177\n",
              "15M                    164\n",
              "26M                    143\n",
              "17M                    143\n",
              "16M                    137\n",
              "19M                    130\n",
              "10M                    129\n",
              "21M                    124\n",
              "20M                    123\n",
              "18M                    119\n",
              "25M                    119\n",
              "24M                    117\n",
              "22M                    104\n",
              "23M                    103\n",
              "27M                     92\n",
              "29M                     92\n",
              "28M                     90\n",
              "30M                     83\n",
              "3.3M                    73\n",
              "33M                     71\n",
              "2.5M                    68\n",
              "2.3M                    67\n",
              "37M                     67\n",
              "31M                     67\n",
              "2.9M                    67\n",
              "35M                     65\n",
              "                      ... \n",
              "930k                     1\n",
              "89k                      1\n",
              "280k                     1\n",
              "569k                     1\n",
              "239k                     1\n",
              "1,000+                   1\n",
              "812k                     1\n",
              "970k                     1\n",
              "257k                     1\n",
              "545k                     1\n",
              "157k                     1\n",
              "108k                     1\n",
              "78k                      1\n",
              "713k                     1\n",
              "67k                      1\n",
              "176k                     1\n",
              "27k                      1\n",
              "353k                     1\n",
              "779k                     1\n",
              "874k                     1\n",
              "609k                     1\n",
              "191k                     1\n",
              "243k                     1\n",
              "44k                      1\n",
              "963k                     1\n",
              "219k                     1\n",
              "208k                     1\n",
              "376k                     1\n",
              "430k                     1\n",
              "705k                     1\n",
              "Name: Size, Length: 462, dtype: int64"
            ]
          },
          "metadata": {
            "tags": []
          },
          "execution_count": 21
        }
      ]
    },
    {
      "cell_type": "code",
      "metadata": {
        "id": "xlj4POxBCaF0",
        "outputId": "b148e3fd-374b-4f53-b260-652e86a22140"
      },
      "source": [
        "apps1.isnull().sum()"
      ],
      "execution_count": null,
      "outputs": [
        {
          "output_type": "execute_result",
          "data": {
            "text/plain": [
              "App                  0\n",
              "Category             0\n",
              "Rating            1463\n",
              "Reviews              1\n",
              "Size                 0\n",
              "Installs             1\n",
              "Type                 1\n",
              "Price                1\n",
              "Content Rating       1\n",
              "Genres               0\n",
              "Last Updated         0\n",
              "Current Ver          8\n",
              "Android Ver          3\n",
              "dtype: int64"
            ]
          },
          "metadata": {
            "tags": []
          },
          "execution_count": 22
        }
      ]
    },
    {
      "cell_type": "code",
      "metadata": {
        "id": "92bXyeFPCaF1"
      },
      "source": [
        "apps1 = apps1.drop(apps1[apps1.Size.str.contains('Varies with device')].index,axis=0)"
      ],
      "execution_count": null,
      "outputs": []
    },
    {
      "cell_type": "code",
      "metadata": {
        "id": "hA_guD7VCaF2"
      },
      "source": [
        "apps1['Size'] = apps1.Size.str.replace('M', 'e6')  #at first replace the string value 'M' with 'e6' and 'k' with 'e3'\n",
        "apps1['Size'] = apps1.Size.str.replace('k', 'e3')\n"
      ],
      "execution_count": null,
      "outputs": []
    },
    {
      "cell_type": "code",
      "metadata": {
        "id": "o3236AJeCaF2"
      },
      "source": [
        "apps1['Size']=pd.to_numeric(apps1.Size, errors = 'coerce')#convert the size to numeric values"
      ],
      "execution_count": null,
      "outputs": []
    },
    {
      "cell_type": "code",
      "metadata": {
        "scrolled": true,
        "id": "ey1tjg1QCaF3",
        "outputId": "6c57bed9-5a5c-488a-b7b5-aaaee1fe2de7"
      },
      "source": [
        "apps1['Size'].value_counts()"
      ],
      "execution_count": null,
      "outputs": [
        {
          "output_type": "execute_result",
          "data": {
            "text/plain": [
              "11000000.0    182\n",
              "12000000.0    181\n",
              "13000000.0    177\n",
              "14000000.0    177\n",
              "15000000.0    164\n",
              "26000000.0    143\n",
              "17000000.0    143\n",
              "10000000.0    139\n",
              "16000000.0    137\n",
              "19000000.0    130\n",
              "21000000.0    124\n",
              "20000000.0    123\n",
              "18000000.0    119\n",
              "25000000.0    119\n",
              "24000000.0    117\n",
              "22000000.0    104\n",
              "23000000.0    103\n",
              "29000000.0     92\n",
              "27000000.0     92\n",
              "28000000.0     90\n",
              "30000000.0     83\n",
              "3300000.0      73\n",
              "33000000.0     71\n",
              "2500000.0      68\n",
              "37000000.0     67\n",
              "31000000.0     67\n",
              "2900000.0      67\n",
              "2300000.0      67\n",
              "35000000.0     65\n",
              "2800000.0      65\n",
              "             ... \n",
              "569000.0        1\n",
              "164000.0        1\n",
              "695000.0        1\n",
              "613000.0        1\n",
              "847000.0        1\n",
              "421000.0        1\n",
              "186000.0        1\n",
              "500000.0        1\n",
              "716000.0        1\n",
              "585000.0        1\n",
              "924000.0        1\n",
              "91000.0         1\n",
              "55000.0         1\n",
              "74000.0         1\n",
              "629000.0        1\n",
              "920000.0        1\n",
              "280000.0        1\n",
              "67000.0         1\n",
              "190000.0        1\n",
              "749000.0        1\n",
              "253000.0        1\n",
              "309000.0        1\n",
              "511000.0        1\n",
              "809000.0        1\n",
              "940000.0        1\n",
              "913000.0        1\n",
              "429000.0        1\n",
              "97000.0         1\n",
              "412000.0        1\n",
              "811000.0        1\n",
              "Name: Size, Length: 459, dtype: int64"
            ]
          },
          "metadata": {
            "tags": []
          },
          "execution_count": 26
        }
      ]
    },
    {
      "cell_type": "code",
      "metadata": {
        "id": "SFP_mqFACaF4",
        "outputId": "47517f3d-ea5d-4d9c-9c7c-05eac8856d9f"
      },
      "source": [
        "apps1.info()"
      ],
      "execution_count": null,
      "outputs": [
        {
          "output_type": "stream",
          "text": [
            "<class 'pandas.core.frame.DataFrame'>\n",
            "Int64Index: 8433 entries, 8872 to 10472\n",
            "Data columns (total 13 columns):\n",
            "App               8433 non-null object\n",
            "Category          8433 non-null object\n",
            "Rating            7028 non-null float64\n",
            "Reviews           8432 non-null float64\n",
            "Size              8432 non-null float64\n",
            "Installs          8432 non-null float64\n",
            "Type              8433 non-null object\n",
            "Price             8432 non-null float64\n",
            "Content Rating    8432 non-null object\n",
            "Genres            8433 non-null object\n",
            "Last Updated      8433 non-null object\n",
            "Current Ver       8425 non-null object\n",
            "Android Ver       8430 non-null object\n",
            "dtypes: float64(5), object(8)\n",
            "memory usage: 922.4+ KB\n"
          ],
          "name": "stdout"
        }
      ]
    },
    {
      "cell_type": "code",
      "metadata": {
        "id": "1TtC_uEhCaF6",
        "outputId": "a3c1a8f9-c8df-4db7-b224-d2c06c122c85"
      },
      "source": [
        "apps1['Category'].value_counts()"
      ],
      "execution_count": null,
      "outputs": [
        {
          "output_type": "execute_result",
          "data": {
            "text/plain": [
              "FAMILY                 1778\n",
              "GAME                    844\n",
              "TOOLS                   733\n",
              "BUSINESS                375\n",
              "MEDICAL                 369\n",
              "PERSONALIZATION         351\n",
              "LIFESTYLE               334\n",
              "FINANCE                 299\n",
              "PRODUCTIVITY            291\n",
              "SPORTS                  287\n",
              "COMMUNICATION           243\n",
              "HEALTH_AND_FITNESS      232\n",
              "PHOTOGRAPHY             222\n",
              "NEWS_AND_MAGAZINES      201\n",
              "BOOKS_AND_REFERENCE     194\n",
              "SOCIAL                  189\n",
              "TRAVEL_AND_LOCAL        173\n",
              "SHOPPING                168\n",
              "DATING                  158\n",
              "VIDEO_PLAYERS           128\n",
              "MAPS_AND_NAVIGATION     107\n",
              "FOOD_AND_DRINK           88\n",
              "LIBRARIES_AND_DEMO       81\n",
              "EDUCATION                76\n",
              "AUTO_AND_VEHICLES        75\n",
              "HOUSE_AND_HOME           61\n",
              "ART_AND_DESIGN           59\n",
              "EVENTS                   57\n",
              "WEATHER                  56\n",
              "PARENTING                54\n",
              "ENTERTAINMENT            53\n",
              "COMICS                   49\n",
              "BEAUTY                   47\n",
              "1.9                       1\n",
              "Name: Category, dtype: int64"
            ]
          },
          "metadata": {
            "tags": []
          },
          "execution_count": 28
        }
      ]
    },
    {
      "cell_type": "code",
      "metadata": {
        "id": "Hv514VQECaF7",
        "outputId": "4fe960ac-d507-45ec-c660-7d739dbc0a12"
      },
      "source": [
        "apps1[apps1['Category'] == '1.9'] #drop the category '1.9'"
      ],
      "execution_count": null,
      "outputs": [
        {
          "output_type": "execute_result",
          "data": {
            "text/html": [
              "<div>\n",
              "<style scoped>\n",
              "    .dataframe tbody tr th:only-of-type {\n",
              "        vertical-align: middle;\n",
              "    }\n",
              "\n",
              "    .dataframe tbody tr th {\n",
              "        vertical-align: top;\n",
              "    }\n",
              "\n",
              "    .dataframe thead th {\n",
              "        text-align: right;\n",
              "    }\n",
              "</style>\n",
              "<table border=\"1\" class=\"dataframe\">\n",
              "  <thead>\n",
              "    <tr style=\"text-align: right;\">\n",
              "      <th></th>\n",
              "      <th>App</th>\n",
              "      <th>Category</th>\n",
              "      <th>Rating</th>\n",
              "      <th>Reviews</th>\n",
              "      <th>Size</th>\n",
              "      <th>Installs</th>\n",
              "      <th>Type</th>\n",
              "      <th>Price</th>\n",
              "      <th>Content Rating</th>\n",
              "      <th>Genres</th>\n",
              "      <th>Last Updated</th>\n",
              "      <th>Current Ver</th>\n",
              "      <th>Android Ver</th>\n",
              "    </tr>\n",
              "  </thead>\n",
              "  <tbody>\n",
              "    <tr>\n",
              "      <th>10472</th>\n",
              "      <td>Life Made WI-Fi Touchscreen Photo Frame</td>\n",
              "      <td>1.9</td>\n",
              "      <td>19.0</td>\n",
              "      <td>NaN</td>\n",
              "      <td>NaN</td>\n",
              "      <td>NaN</td>\n",
              "      <td>0</td>\n",
              "      <td>NaN</td>\n",
              "      <td>NaN</td>\n",
              "      <td>February 11, 2018</td>\n",
              "      <td>1.0.19</td>\n",
              "      <td>4.0 and up</td>\n",
              "      <td>NaN</td>\n",
              "    </tr>\n",
              "  </tbody>\n",
              "</table>\n",
              "</div>"
            ],
            "text/plain": [
              "                                           App Category  Rating  Reviews  \\\n",
              "10472  Life Made WI-Fi Touchscreen Photo Frame      1.9    19.0      NaN   \n",
              "\n",
              "       Size  Installs Type  Price Content Rating             Genres  \\\n",
              "10472   NaN       NaN    0    NaN            NaN  February 11, 2018   \n",
              "\n",
              "      Last Updated Current Ver Android Ver  \n",
              "10472       1.0.19  4.0 and up         NaN  "
            ]
          },
          "metadata": {
            "tags": []
          },
          "execution_count": 29
        }
      ]
    },
    {
      "cell_type": "code",
      "metadata": {
        "id": "gEVP5m85CaF8",
        "outputId": "614dd427-9db3-4f77-be77-f5fa67ecb8e3"
      },
      "source": [
        "apps1.isnull().sum()"
      ],
      "execution_count": null,
      "outputs": [
        {
          "output_type": "execute_result",
          "data": {
            "text/plain": [
              "App                  0\n",
              "Category             0\n",
              "Rating            1405\n",
              "Reviews              1\n",
              "Size                 1\n",
              "Installs             1\n",
              "Type                 0\n",
              "Price                1\n",
              "Content Rating       1\n",
              "Genres               0\n",
              "Last Updated         0\n",
              "Current Ver          8\n",
              "Android Ver          3\n",
              "dtype: int64"
            ]
          },
          "metadata": {
            "tags": []
          },
          "execution_count": 30
        }
      ]
    },
    {
      "cell_type": "code",
      "metadata": {
        "id": "QGC4fyLwCaF9"
      },
      "source": [
        "apps1 = apps1.dropna(subset=['Rating']) #drop the null values of rating"
      ],
      "execution_count": null,
      "outputs": []
    },
    {
      "cell_type": "code",
      "metadata": {
        "id": "Vyf3OkxCCaF-",
        "outputId": "5a6fd5c4-dc49-4979-d9d5-f134678adf77"
      },
      "source": [
        "apps1.isnull().sum()  #check the null value is present or not"
      ],
      "execution_count": null,
      "outputs": [
        {
          "output_type": "execute_result",
          "data": {
            "text/plain": [
              "App               0\n",
              "Category          0\n",
              "Rating            0\n",
              "Reviews           1\n",
              "Size              1\n",
              "Installs          1\n",
              "Type              0\n",
              "Price             1\n",
              "Content Rating    1\n",
              "Genres            0\n",
              "Last Updated      0\n",
              "Current Ver       4\n",
              "Android Ver       3\n",
              "dtype: int64"
            ]
          },
          "metadata": {
            "tags": []
          },
          "execution_count": 32
        }
      ]
    },
    {
      "cell_type": "code",
      "metadata": {
        "id": "yfP13WG4CaF_",
        "outputId": "c71e4582-de0d-4a8a-dfdb-313026659e0f"
      },
      "source": [
        "apps1['Category'].value_counts() "
      ],
      "execution_count": null,
      "outputs": [
        {
          "output_type": "execute_result",
          "data": {
            "text/plain": [
              "FAMILY                 1563\n",
              "GAME                    803\n",
              "TOOLS                   628\n",
              "PERSONALIZATION         276\n",
              "LIFESTYLE               269\n",
              "MEDICAL                 267\n",
              "FINANCE                 258\n",
              "SPORTS                  223\n",
              "PRODUCTIVITY            223\n",
              "BUSINESS                221\n",
              "PHOTOGRAPHY             204\n",
              "HEALTH_AND_FITNESS      191\n",
              "COMMUNICATION           189\n",
              "SOCIAL                  156\n",
              "NEWS_AND_MAGAZINES      154\n",
              "SHOPPING                146\n",
              "BOOKS_AND_REFERENCE     141\n",
              "TRAVEL_AND_LOCAL        141\n",
              "DATING                  121\n",
              "VIDEO_PLAYERS           113\n",
              "MAPS_AND_NAVIGATION      94\n",
              "EDUCATION                75\n",
              "FOOD_AND_DRINK           72\n",
              "AUTO_AND_VEHICLES        63\n",
              "LIBRARIES_AND_DEMO       61\n",
              "ART_AND_DESIGN           57\n",
              "ENTERTAINMENT            53\n",
              "WEATHER                  50\n",
              "HOUSE_AND_HOME           49\n",
              "COMICS                   47\n",
              "PARENTING                44\n",
              "EVENTS                   38\n",
              "BEAUTY                   37\n",
              "1.9                       1\n",
              "Name: Category, dtype: int64"
            ]
          },
          "metadata": {
            "tags": []
          },
          "execution_count": 33
        }
      ]
    },
    {
      "cell_type": "code",
      "metadata": {
        "id": "9XB_sACRCaGA",
        "outputId": "9a6d83cd-111c-4496-b315-d5a91dece153"
      },
      "source": [
        "apps1.shape"
      ],
      "execution_count": null,
      "outputs": [
        {
          "output_type": "execute_result",
          "data": {
            "text/plain": [
              "(7028, 13)"
            ]
          },
          "metadata": {
            "tags": []
          },
          "execution_count": 34
        }
      ]
    },
    {
      "cell_type": "code",
      "metadata": {
        "id": "_SlKiulDCaGC",
        "outputId": "0abd65b3-3204-4691-de4b-33dd37b30b10"
      },
      "source": [
        "apps1.head(2)"
      ],
      "execution_count": null,
      "outputs": [
        {
          "output_type": "execute_result",
          "data": {
            "text/html": [
              "<div>\n",
              "<style scoped>\n",
              "    .dataframe tbody tr th:only-of-type {\n",
              "        vertical-align: middle;\n",
              "    }\n",
              "\n",
              "    .dataframe tbody tr th {\n",
              "        vertical-align: top;\n",
              "    }\n",
              "\n",
              "    .dataframe thead th {\n",
              "        text-align: right;\n",
              "    }\n",
              "</style>\n",
              "<table border=\"1\" class=\"dataframe\">\n",
              "  <thead>\n",
              "    <tr style=\"text-align: right;\">\n",
              "      <th></th>\n",
              "      <th>App</th>\n",
              "      <th>Category</th>\n",
              "      <th>Rating</th>\n",
              "      <th>Reviews</th>\n",
              "      <th>Size</th>\n",
              "      <th>Installs</th>\n",
              "      <th>Type</th>\n",
              "      <th>Price</th>\n",
              "      <th>Content Rating</th>\n",
              "      <th>Genres</th>\n",
              "      <th>Last Updated</th>\n",
              "      <th>Current Ver</th>\n",
              "      <th>Android Ver</th>\n",
              "    </tr>\n",
              "  </thead>\n",
              "  <tbody>\n",
              "    <tr>\n",
              "      <th>5776</th>\n",
              "      <td>Food-Aw - Order Food Online in Aruba</td>\n",
              "      <td>FOOD_AND_DRINK</td>\n",
              "      <td>5.0</td>\n",
              "      <td>1.0</td>\n",
              "      <td>24000000.0</td>\n",
              "      <td>100.0</td>\n",
              "      <td>Free</td>\n",
              "      <td>0.0</td>\n",
              "      <td>Everyone</td>\n",
              "      <td>Food &amp; Drink</td>\n",
              "      <td>April 5, 2018</td>\n",
              "      <td>10</td>\n",
              "      <td>4.1 and up</td>\n",
              "    </tr>\n",
              "    <tr>\n",
              "      <th>9513</th>\n",
              "      <td>Ek Kahani Aisi Bhi Season 3 - The Horror Story</td>\n",
              "      <td>FAMILY</td>\n",
              "      <td>3.0</td>\n",
              "      <td>1.0</td>\n",
              "      <td>5800000.0</td>\n",
              "      <td>100.0</td>\n",
              "      <td>Free</td>\n",
              "      <td>0.0</td>\n",
              "      <td>Teen</td>\n",
              "      <td>Entertainment</td>\n",
              "      <td>July 21, 2018</td>\n",
              "      <td>1.1</td>\n",
              "      <td>5.0 and up</td>\n",
              "    </tr>\n",
              "  </tbody>\n",
              "</table>\n",
              "</div>"
            ],
            "text/plain": [
              "                                                 App        Category  Rating  \\\n",
              "5776            Food-Aw - Order Food Online in Aruba  FOOD_AND_DRINK     5.0   \n",
              "9513  Ek Kahani Aisi Bhi Season 3 - The Horror Story          FAMILY     3.0   \n",
              "\n",
              "      Reviews        Size  Installs  Type  Price Content Rating  \\\n",
              "5776      1.0  24000000.0     100.0  Free    0.0       Everyone   \n",
              "9513      1.0   5800000.0     100.0  Free    0.0           Teen   \n",
              "\n",
              "             Genres   Last Updated Current Ver Android Ver  \n",
              "5776   Food & Drink  April 5, 2018          10  4.1 and up  \n",
              "9513  Entertainment  July 21, 2018         1.1  5.0 and up  "
            ]
          },
          "metadata": {
            "tags": []
          },
          "execution_count": 35
        }
      ]
    },
    {
      "cell_type": "code",
      "metadata": {
        "id": "jpKgze9-CaGD",
        "outputId": "3c198683-9ac9-436c-8229-e09f808dee56"
      },
      "source": [
        "apps1['Rating'].value_counts()"
      ],
      "execution_count": null,
      "outputs": [
        {
          "output_type": "execute_result",
          "data": {
            "text/plain": [
              "4.4     723\n",
              "4.3     717\n",
              "4.5     693\n",
              "4.2     673\n",
              "4.6     563\n",
              "4.1     537\n",
              "4.0     448\n",
              "4.7     387\n",
              "3.9     312\n",
              "5.0     266\n",
              "3.8     258\n",
              "4.8     204\n",
              "3.7     191\n",
              "3.6     152\n",
              "3.5     147\n",
              "3.4     113\n",
              "3.3      96\n",
              "4.9      85\n",
              "3.0      72\n",
              "3.1      62\n",
              "3.2      59\n",
              "2.9      43\n",
              "2.8      40\n",
              "2.6      22\n",
              "2.7      21\n",
              "2.3      20\n",
              "2.4      19\n",
              "2.5      18\n",
              "1.0      16\n",
              "2.2      14\n",
              "2.0      11\n",
              "1.9      10\n",
              "1.8       8\n",
              "2.1       8\n",
              "1.7       8\n",
              "1.6       4\n",
              "1.5       3\n",
              "1.4       3\n",
              "1.2       1\n",
              "19.0      1\n",
              "Name: Rating, dtype: int64"
            ]
          },
          "metadata": {
            "tags": []
          },
          "execution_count": 36
        }
      ]
    },
    {
      "cell_type": "code",
      "metadata": {
        "id": "4Loj7EiOCaGE",
        "outputId": "2c0993dc-6c17-4639-bed3-497bb0e49890"
      },
      "source": [
        "apps1.shape"
      ],
      "execution_count": null,
      "outputs": [
        {
          "output_type": "execute_result",
          "data": {
            "text/plain": [
              "(7028, 13)"
            ]
          },
          "metadata": {
            "tags": []
          },
          "execution_count": 37
        }
      ]
    },
    {
      "cell_type": "code",
      "metadata": {
        "id": "Yt2h4OraCaGF"
      },
      "source": [
        "apps1=apps1[['Category','Rating','Reviews','Size','Installs','Type','Price','Content Rating','Genres']]"
      ],
      "execution_count": null,
      "outputs": []
    },
    {
      "cell_type": "code",
      "metadata": {
        "id": "uutoSPpnCaGG",
        "outputId": "e3cb7c56-977b-4cb6-de80-f75b40b708c4"
      },
      "source": [
        "apps1.head()"
      ],
      "execution_count": null,
      "outputs": [
        {
          "output_type": "execute_result",
          "data": {
            "text/html": [
              "<div>\n",
              "<style scoped>\n",
              "    .dataframe tbody tr th:only-of-type {\n",
              "        vertical-align: middle;\n",
              "    }\n",
              "\n",
              "    .dataframe tbody tr th {\n",
              "        vertical-align: top;\n",
              "    }\n",
              "\n",
              "    .dataframe thead th {\n",
              "        text-align: right;\n",
              "    }\n",
              "</style>\n",
              "<table border=\"1\" class=\"dataframe\">\n",
              "  <thead>\n",
              "    <tr style=\"text-align: right;\">\n",
              "      <th></th>\n",
              "      <th>Category</th>\n",
              "      <th>Rating</th>\n",
              "      <th>Reviews</th>\n",
              "      <th>Size</th>\n",
              "      <th>Installs</th>\n",
              "      <th>Type</th>\n",
              "      <th>Price</th>\n",
              "      <th>Content Rating</th>\n",
              "      <th>Genres</th>\n",
              "    </tr>\n",
              "  </thead>\n",
              "  <tbody>\n",
              "    <tr>\n",
              "      <th>5776</th>\n",
              "      <td>FOOD_AND_DRINK</td>\n",
              "      <td>5.0</td>\n",
              "      <td>1.0</td>\n",
              "      <td>24000000.0</td>\n",
              "      <td>100.0</td>\n",
              "      <td>Free</td>\n",
              "      <td>0.0</td>\n",
              "      <td>Everyone</td>\n",
              "      <td>Food &amp; Drink</td>\n",
              "    </tr>\n",
              "    <tr>\n",
              "      <th>9513</th>\n",
              "      <td>FAMILY</td>\n",
              "      <td>3.0</td>\n",
              "      <td>1.0</td>\n",
              "      <td>5800000.0</td>\n",
              "      <td>100.0</td>\n",
              "      <td>Free</td>\n",
              "      <td>0.0</td>\n",
              "      <td>Teen</td>\n",
              "      <td>Entertainment</td>\n",
              "    </tr>\n",
              "    <tr>\n",
              "      <th>9455</th>\n",
              "      <td>COMMUNICATION</td>\n",
              "      <td>5.0</td>\n",
              "      <td>1.0</td>\n",
              "      <td>25000000.0</td>\n",
              "      <td>10.0</td>\n",
              "      <td>Free</td>\n",
              "      <td>0.0</td>\n",
              "      <td>Teen</td>\n",
              "      <td>Communication</td>\n",
              "    </tr>\n",
              "    <tr>\n",
              "      <th>2533</th>\n",
              "      <td>MEDICAL</td>\n",
              "      <td>5.0</td>\n",
              "      <td>1.0</td>\n",
              "      <td>6100000.0</td>\n",
              "      <td>100.0</td>\n",
              "      <td>Free</td>\n",
              "      <td>0.0</td>\n",
              "      <td>Mature 17+</td>\n",
              "      <td>Medical</td>\n",
              "    </tr>\n",
              "    <tr>\n",
              "      <th>2482</th>\n",
              "      <td>MEDICAL</td>\n",
              "      <td>4.0</td>\n",
              "      <td>1.0</td>\n",
              "      <td>3300000.0</td>\n",
              "      <td>10.0</td>\n",
              "      <td>Free</td>\n",
              "      <td>0.0</td>\n",
              "      <td>Everyone</td>\n",
              "      <td>Medical</td>\n",
              "    </tr>\n",
              "  </tbody>\n",
              "</table>\n",
              "</div>"
            ],
            "text/plain": [
              "            Category  Rating  Reviews        Size  Installs  Type  Price  \\\n",
              "5776  FOOD_AND_DRINK     5.0      1.0  24000000.0     100.0  Free    0.0   \n",
              "9513          FAMILY     3.0      1.0   5800000.0     100.0  Free    0.0   \n",
              "9455   COMMUNICATION     5.0      1.0  25000000.0      10.0  Free    0.0   \n",
              "2533         MEDICAL     5.0      1.0   6100000.0     100.0  Free    0.0   \n",
              "2482         MEDICAL     4.0      1.0   3300000.0      10.0  Free    0.0   \n",
              "\n",
              "     Content Rating         Genres  \n",
              "5776       Everyone   Food & Drink  \n",
              "9513           Teen  Entertainment  \n",
              "9455           Teen  Communication  \n",
              "2533     Mature 17+        Medical  \n",
              "2482       Everyone        Medical  "
            ]
          },
          "metadata": {
            "tags": []
          },
          "execution_count": 39
        }
      ]
    },
    {
      "cell_type": "code",
      "metadata": {
        "id": "D5sG22csCaGH",
        "outputId": "6b7838a3-7387-4d99-bd18-50e70757a748"
      },
      "source": [
        "apps1.info()"
      ],
      "execution_count": null,
      "outputs": [
        {
          "output_type": "stream",
          "text": [
            "<class 'pandas.core.frame.DataFrame'>\n",
            "Int64Index: 7028 entries, 5776 to 10472\n",
            "Data columns (total 9 columns):\n",
            "Category          7028 non-null object\n",
            "Rating            7028 non-null float64\n",
            "Reviews           7027 non-null float64\n",
            "Size              7027 non-null float64\n",
            "Installs          7027 non-null float64\n",
            "Type              7028 non-null object\n",
            "Price             7027 non-null float64\n",
            "Content Rating    7027 non-null object\n",
            "Genres            7028 non-null object\n",
            "dtypes: float64(5), object(4)\n",
            "memory usage: 549.1+ KB\n"
          ],
          "name": "stdout"
        }
      ]
    },
    {
      "cell_type": "code",
      "metadata": {
        "id": "wa-43ZemCaGI",
        "outputId": "f63ccdc4-375a-4b9f-b42c-bb37011374f5"
      },
      "source": [
        "apps1.isnull().sum() #check null value is present or not"
      ],
      "execution_count": null,
      "outputs": [
        {
          "output_type": "execute_result",
          "data": {
            "text/plain": [
              "Category          0\n",
              "Rating            0\n",
              "Reviews           1\n",
              "Size              1\n",
              "Installs          1\n",
              "Type              0\n",
              "Price             1\n",
              "Content Rating    1\n",
              "Genres            0\n",
              "dtype: int64"
            ]
          },
          "metadata": {
            "tags": []
          },
          "execution_count": 41
        }
      ]
    },
    {
      "cell_type": "code",
      "metadata": {
        "id": "-weG5hdmCaGI",
        "outputId": "e274f797-0c55-4f81-8d6c-e6161ee09e2b"
      },
      "source": [
        "apps2 = apps1.dropna()  #drop the null values in apps1\n",
        "apps2.head(2)"
      ],
      "execution_count": null,
      "outputs": [
        {
          "output_type": "execute_result",
          "data": {
            "text/html": [
              "<div>\n",
              "<style scoped>\n",
              "    .dataframe tbody tr th:only-of-type {\n",
              "        vertical-align: middle;\n",
              "    }\n",
              "\n",
              "    .dataframe tbody tr th {\n",
              "        vertical-align: top;\n",
              "    }\n",
              "\n",
              "    .dataframe thead th {\n",
              "        text-align: right;\n",
              "    }\n",
              "</style>\n",
              "<table border=\"1\" class=\"dataframe\">\n",
              "  <thead>\n",
              "    <tr style=\"text-align: right;\">\n",
              "      <th></th>\n",
              "      <th>Category</th>\n",
              "      <th>Rating</th>\n",
              "      <th>Reviews</th>\n",
              "      <th>Size</th>\n",
              "      <th>Installs</th>\n",
              "      <th>Type</th>\n",
              "      <th>Price</th>\n",
              "      <th>Content Rating</th>\n",
              "      <th>Genres</th>\n",
              "    </tr>\n",
              "  </thead>\n",
              "  <tbody>\n",
              "    <tr>\n",
              "      <th>5776</th>\n",
              "      <td>FOOD_AND_DRINK</td>\n",
              "      <td>5.0</td>\n",
              "      <td>1.0</td>\n",
              "      <td>24000000.0</td>\n",
              "      <td>100.0</td>\n",
              "      <td>Free</td>\n",
              "      <td>0.0</td>\n",
              "      <td>Everyone</td>\n",
              "      <td>Food &amp; Drink</td>\n",
              "    </tr>\n",
              "    <tr>\n",
              "      <th>9513</th>\n",
              "      <td>FAMILY</td>\n",
              "      <td>3.0</td>\n",
              "      <td>1.0</td>\n",
              "      <td>5800000.0</td>\n",
              "      <td>100.0</td>\n",
              "      <td>Free</td>\n",
              "      <td>0.0</td>\n",
              "      <td>Teen</td>\n",
              "      <td>Entertainment</td>\n",
              "    </tr>\n",
              "  </tbody>\n",
              "</table>\n",
              "</div>"
            ],
            "text/plain": [
              "            Category  Rating  Reviews        Size  Installs  Type  Price  \\\n",
              "5776  FOOD_AND_DRINK     5.0      1.0  24000000.0     100.0  Free    0.0   \n",
              "9513          FAMILY     3.0      1.0   5800000.0     100.0  Free    0.0   \n",
              "\n",
              "     Content Rating         Genres  \n",
              "5776       Everyone   Food & Drink  \n",
              "9513           Teen  Entertainment  "
            ]
          },
          "metadata": {
            "tags": []
          },
          "execution_count": 42
        }
      ]
    },
    {
      "cell_type": "code",
      "metadata": {
        "id": "26SDHYHZCaGJ",
        "outputId": "b3b3a88e-b563-4002-8921-1b41b81da0d9"
      },
      "source": [
        "apps2.describe()"
      ],
      "execution_count": null,
      "outputs": [
        {
          "output_type": "execute_result",
          "data": {
            "text/html": [
              "<div>\n",
              "<style scoped>\n",
              "    .dataframe tbody tr th:only-of-type {\n",
              "        vertical-align: middle;\n",
              "    }\n",
              "\n",
              "    .dataframe tbody tr th {\n",
              "        vertical-align: top;\n",
              "    }\n",
              "\n",
              "    .dataframe thead th {\n",
              "        text-align: right;\n",
              "    }\n",
              "</style>\n",
              "<table border=\"1\" class=\"dataframe\">\n",
              "  <thead>\n",
              "    <tr style=\"text-align: right;\">\n",
              "      <th></th>\n",
              "      <th>Rating</th>\n",
              "      <th>Reviews</th>\n",
              "      <th>Size</th>\n",
              "      <th>Installs</th>\n",
              "      <th>Price</th>\n",
              "    </tr>\n",
              "  </thead>\n",
              "  <tbody>\n",
              "    <tr>\n",
              "      <th>count</th>\n",
              "      <td>7027.000000</td>\n",
              "      <td>7.027000e+03</td>\n",
              "      <td>7.027000e+03</td>\n",
              "      <td>7.027000e+03</td>\n",
              "      <td>7027.000000</td>\n",
              "    </tr>\n",
              "    <tr>\n",
              "      <th>mean</th>\n",
              "      <td>4.160694</td>\n",
              "      <td>1.449036e+05</td>\n",
              "      <td>2.175764e+07</td>\n",
              "      <td>4.472719e+06</td>\n",
              "      <td>1.170729</td>\n",
              "    </tr>\n",
              "    <tr>\n",
              "      <th>std</th>\n",
              "      <td>0.558795</td>\n",
              "      <td>1.023887e+06</td>\n",
              "      <td>2.272703e+07</td>\n",
              "      <td>2.714306e+07</td>\n",
              "      <td>18.196934</td>\n",
              "    </tr>\n",
              "    <tr>\n",
              "      <th>min</th>\n",
              "      <td>1.000000</td>\n",
              "      <td>1.000000e+00</td>\n",
              "      <td>8.500000e+03</td>\n",
              "      <td>1.000000e+00</td>\n",
              "      <td>0.000000</td>\n",
              "    </tr>\n",
              "    <tr>\n",
              "      <th>25%</th>\n",
              "      <td>4.000000</td>\n",
              "      <td>8.400000e+01</td>\n",
              "      <td>4.900000e+06</td>\n",
              "      <td>1.000000e+04</td>\n",
              "      <td>0.000000</td>\n",
              "    </tr>\n",
              "    <tr>\n",
              "      <th>50%</th>\n",
              "      <td>4.300000</td>\n",
              "      <td>1.546000e+03</td>\n",
              "      <td>1.300000e+07</td>\n",
              "      <td>1.000000e+05</td>\n",
              "      <td>0.000000</td>\n",
              "    </tr>\n",
              "    <tr>\n",
              "      <th>75%</th>\n",
              "      <td>4.500000</td>\n",
              "      <td>2.657950e+04</td>\n",
              "      <td>3.100000e+07</td>\n",
              "      <td>1.000000e+06</td>\n",
              "      <td>0.000000</td>\n",
              "    </tr>\n",
              "    <tr>\n",
              "      <th>max</th>\n",
              "      <td>5.000000</td>\n",
              "      <td>4.488145e+07</td>\n",
              "      <td>1.000000e+08</td>\n",
              "      <td>1.000000e+09</td>\n",
              "      <td>400.000000</td>\n",
              "    </tr>\n",
              "  </tbody>\n",
              "</table>\n",
              "</div>"
            ],
            "text/plain": [
              "            Rating       Reviews          Size      Installs        Price\n",
              "count  7027.000000  7.027000e+03  7.027000e+03  7.027000e+03  7027.000000\n",
              "mean      4.160694  1.449036e+05  2.175764e+07  4.472719e+06     1.170729\n",
              "std       0.558795  1.023887e+06  2.272703e+07  2.714306e+07    18.196934\n",
              "min       1.000000  1.000000e+00  8.500000e+03  1.000000e+00     0.000000\n",
              "25%       4.000000  8.400000e+01  4.900000e+06  1.000000e+04     0.000000\n",
              "50%       4.300000  1.546000e+03  1.300000e+07  1.000000e+05     0.000000\n",
              "75%       4.500000  2.657950e+04  3.100000e+07  1.000000e+06     0.000000\n",
              "max       5.000000  4.488145e+07  1.000000e+08  1.000000e+09   400.000000"
            ]
          },
          "metadata": {
            "tags": []
          },
          "execution_count": 43
        }
      ]
    },
    {
      "cell_type": "code",
      "metadata": {
        "id": "5QSWWQPpCaGK"
      },
      "source": [
        " le = LabelEncoder()\n",
        "Category = le.fit_transform(apps2['Category'])\n",
        "apps2 = apps2.drop('Category',axis = 1)\n",
        "\n",
        "Gen = pd.factorize(apps2['Genres'])[0]\n",
        "apps2 = apps2.drop('Genres',axis = 1)\n",
        "\n",
        "con = pd.factorize(apps2['Content Rating'])[0]\n",
        "apps2 = apps2.drop('Content Rating',axis = 1)\n",
        "\n",
        "type2 = pd.factorize(apps2['Type'])[0]\n",
        "apps2 = apps2.drop('Type',axis = 1)"
      ],
      "execution_count": null,
      "outputs": []
    },
    {
      "cell_type": "code",
      "metadata": {
        "id": "-MiefisxCaGL"
      },
      "source": [
        "apps2['Category']=Category\n",
        "apps2['Genres']=Gen\n",
        "apps2['Content Rating']=con\n",
        "apps2['Type']=type2"
      ],
      "execution_count": null,
      "outputs": []
    },
    {
      "cell_type": "code",
      "metadata": {
        "scrolled": true,
        "id": "1P2GZymOCaGM",
        "outputId": "46a28848-d6e4-4872-815a-4c34824cd878"
      },
      "source": [
        "apps2.head(2)"
      ],
      "execution_count": null,
      "outputs": [
        {
          "output_type": "execute_result",
          "data": {
            "text/html": [
              "<div>\n",
              "<style scoped>\n",
              "    .dataframe tbody tr th:only-of-type {\n",
              "        vertical-align: middle;\n",
              "    }\n",
              "\n",
              "    .dataframe tbody tr th {\n",
              "        vertical-align: top;\n",
              "    }\n",
              "\n",
              "    .dataframe thead th {\n",
              "        text-align: right;\n",
              "    }\n",
              "</style>\n",
              "<table border=\"1\" class=\"dataframe\">\n",
              "  <thead>\n",
              "    <tr style=\"text-align: right;\">\n",
              "      <th></th>\n",
              "      <th>Rating</th>\n",
              "      <th>Reviews</th>\n",
              "      <th>Size</th>\n",
              "      <th>Installs</th>\n",
              "      <th>Price</th>\n",
              "      <th>Category</th>\n",
              "      <th>Genres</th>\n",
              "      <th>Content Rating</th>\n",
              "      <th>Type</th>\n",
              "    </tr>\n",
              "  </thead>\n",
              "  <tbody>\n",
              "    <tr>\n",
              "      <th>5776</th>\n",
              "      <td>5.0</td>\n",
              "      <td>1.0</td>\n",
              "      <td>24000000.0</td>\n",
              "      <td>100.0</td>\n",
              "      <td>0.0</td>\n",
              "      <td>13</td>\n",
              "      <td>0</td>\n",
              "      <td>0</td>\n",
              "      <td>0</td>\n",
              "    </tr>\n",
              "    <tr>\n",
              "      <th>9513</th>\n",
              "      <td>3.0</td>\n",
              "      <td>1.0</td>\n",
              "      <td>5800000.0</td>\n",
              "      <td>100.0</td>\n",
              "      <td>0.0</td>\n",
              "      <td>11</td>\n",
              "      <td>1</td>\n",
              "      <td>1</td>\n",
              "      <td>0</td>\n",
              "    </tr>\n",
              "  </tbody>\n",
              "</table>\n",
              "</div>"
            ],
            "text/plain": [
              "      Rating  Reviews        Size  Installs  Price  Category  Genres  \\\n",
              "5776     5.0      1.0  24000000.0     100.0    0.0        13       0   \n",
              "9513     3.0      1.0   5800000.0     100.0    0.0        11       1   \n",
              "\n",
              "      Content Rating  Type  \n",
              "5776               0     0  \n",
              "9513               1     0  "
            ]
          },
          "metadata": {
            "tags": []
          },
          "execution_count": 46
        }
      ]
    },
    {
      "cell_type": "code",
      "metadata": {
        "id": "2n0y9YhqCaGM"
      },
      "source": [
        "X = apps2.iloc[:, [1,3,5,6,7]] # Split data into training and testing sets\n",
        "y = apps2.iloc[:, 0]"
      ],
      "execution_count": null,
      "outputs": []
    },
    {
      "cell_type": "code",
      "metadata": {
        "id": "oeq_uVWHCaGN",
        "outputId": "0e961818-273d-4c55-bec3-de04a58cc3af"
      },
      "source": [
        "y = np.array(y)                      #multiply rating with the int 10 and covert it to the numeric value \n",
        "for i in range(len(y)):\n",
        "    y[i] = y[i]*10\n",
        "    y[i] = int(y[i])\n",
        "y = pd.to_numeric(y , downcast='signed')\n",
        "\n",
        "y"
      ],
      "execution_count": null,
      "outputs": [
        {
          "output_type": "execute_result",
          "data": {
            "text/plain": [
              "array([50, 30, 50, ..., 46, 45, 46], dtype=int8)"
            ]
          },
          "metadata": {
            "tags": []
          },
          "execution_count": 48
        }
      ]
    },
    {
      "cell_type": "code",
      "metadata": {
        "id": "xwdlFgVdCaGO"
      },
      "source": [
        "X_train, X_test, y_train, y_test = train_test_split(X, y,test_size=0.2,random_state=11)"
      ],
      "execution_count": null,
      "outputs": []
    },
    {
      "cell_type": "code",
      "metadata": {
        "id": "gUilgOOFCaGP",
        "outputId": "087d511f-875f-4f90-c14d-112f862e9f98"
      },
      "source": [
        "print (X_train.shape)\n",
        "print (X_test.shape)\n",
        "print (y_train.shape)\n",
        "print (y_test.shape)"
      ],
      "execution_count": null,
      "outputs": [
        {
          "output_type": "stream",
          "text": [
            "(5621, 5)\n",
            "(1406, 5)\n",
            "(5621,)\n",
            "(1406,)\n"
          ],
          "name": "stdout"
        }
      ]
    },
    {
      "cell_type": "markdown",
      "metadata": {
        "id": "OoD8L4ZQCaGQ"
      },
      "source": [
        "# Using Gaussian Naive Bayes"
      ]
    },
    {
      "cell_type": "code",
      "metadata": {
        "id": "mBL_nGdWCaGR"
      },
      "source": [
        "from sklearn.naive_bayes import GaussianNB\n",
        "gnb = GaussianNB()"
      ],
      "execution_count": null,
      "outputs": []
    },
    {
      "cell_type": "code",
      "metadata": {
        "id": "k7Y9Zv8ICaGS",
        "outputId": "c17f6c4d-3986-42de-d9fd-6fe907597da9"
      },
      "source": [
        "from sklearn.preprocessing import StandardScaler   #Using StandardScaler to normalize features before applying machine learning techniques.\n",
        "sc = StandardScaler()\n",
        "X_train = sc.fit_transform(X_train)\n",
        "X_test = sc.transform(X_test)\n",
        "y_test.shape\n",
        "y_test.reshape(1406,1)\n",
        "y_train.reshape(5621,1)"
      ],
      "execution_count": null,
      "outputs": [
        {
          "output_type": "execute_result",
          "data": {
            "text/plain": [
              "array([[46],\n",
              "       [38],\n",
              "       [46],\n",
              "       ...,\n",
              "       [45],\n",
              "       [42],\n",
              "       [46]], dtype=int8)"
            ]
          },
          "metadata": {
            "tags": []
          },
          "execution_count": 52
        }
      ]
    },
    {
      "cell_type": "code",
      "metadata": {
        "id": "XdZ1-V5ZCaGT",
        "outputId": "1e36169c-20dc-4138-d290-67ca393ec459"
      },
      "source": [
        "gnb.fit(X_train,y_train)"
      ],
      "execution_count": null,
      "outputs": [
        {
          "output_type": "execute_result",
          "data": {
            "text/plain": [
              "GaussianNB(priors=None)"
            ]
          },
          "metadata": {
            "tags": []
          },
          "execution_count": 53
        }
      ]
    },
    {
      "cell_type": "code",
      "metadata": {
        "id": "KSjs9SI5CaGU"
      },
      "source": [
        "pred2 = gnb.predict(X_test)"
      ],
      "execution_count": null,
      "outputs": []
    },
    {
      "cell_type": "code",
      "metadata": {
        "id": "jsIvzGddCaGV"
      },
      "source": [
        "from sklearn.metrics import r2_score"
      ],
      "execution_count": null,
      "outputs": []
    },
    {
      "cell_type": "code",
      "metadata": {
        "id": "Cyu1lGOtCaGV",
        "outputId": "3063b5c8-3323-46fe-b966-fc1684b4c27a"
      },
      "source": [
        "r2_score(y_test,pred2) #r2 score on the test data using GaussianNB"
      ],
      "execution_count": null,
      "outputs": [
        {
          "output_type": "execute_result",
          "data": {
            "text/plain": [
              "0.7694558507782752"
            ]
          },
          "metadata": {
            "tags": []
          },
          "execution_count": 56
        }
      ]
    },
    {
      "cell_type": "markdown",
      "metadata": {
        "id": "6rAGEaP9CaGW"
      },
      "source": [
        "# Using Random Forest Classifier"
      ]
    },
    {
      "cell_type": "code",
      "metadata": {
        "id": "jTLsUA9eCaGX",
        "outputId": "0ed98522-a1af-4207-e26c-8b4cd6d3bdf4"
      },
      "source": [
        "from sklearn.ensemble import RandomForestClassifier\n",
        "clf = RandomForestClassifier(random_state=42)\n",
        "clf"
      ],
      "execution_count": null,
      "outputs": [
        {
          "output_type": "execute_result",
          "data": {
            "text/plain": [
              "RandomForestClassifier(bootstrap=True, class_weight=None, criterion='gini',\n",
              "            max_depth=None, max_features='auto', max_leaf_nodes=None,\n",
              "            min_impurity_decrease=0.0, min_impurity_split=None,\n",
              "            min_samples_leaf=1, min_samples_split=2,\n",
              "            min_weight_fraction_leaf=0.0, n_estimators=10, n_jobs=1,\n",
              "            oob_score=False, random_state=42, verbose=0, warm_start=False)"
            ]
          },
          "metadata": {
            "tags": []
          },
          "execution_count": 57
        }
      ]
    },
    {
      "cell_type": "code",
      "metadata": {
        "id": "0V8kAELuCaGX",
        "outputId": "29014b22-e856-4336-8112-17db0d54319c"
      },
      "source": [
        "clf.fit(X_train , y_train)"
      ],
      "execution_count": null,
      "outputs": [
        {
          "output_type": "execute_result",
          "data": {
            "text/plain": [
              "RandomForestClassifier(bootstrap=True, class_weight=None, criterion='gini',\n",
              "            max_depth=None, max_features='auto', max_leaf_nodes=None,\n",
              "            min_impurity_decrease=0.0, min_impurity_split=None,\n",
              "            min_samples_leaf=1, min_samples_split=2,\n",
              "            min_weight_fraction_leaf=0.0, n_estimators=10, n_jobs=1,\n",
              "            oob_score=False, random_state=42, verbose=0, warm_start=False)"
            ]
          },
          "metadata": {
            "tags": []
          },
          "execution_count": 58
        }
      ]
    },
    {
      "cell_type": "code",
      "metadata": {
        "id": "BE2dp73XCaGY"
      },
      "source": [
        "pred = clf.predict(X_test)"
      ],
      "execution_count": null,
      "outputs": []
    },
    {
      "cell_type": "code",
      "metadata": {
        "id": "VWo1xjDECaGZ"
      },
      "source": [
        "from sklearn.metrics import r2_score"
      ],
      "execution_count": null,
      "outputs": []
    },
    {
      "cell_type": "markdown",
      "metadata": {
        "id": "lalplQHjCaGZ"
      },
      "source": [
        "# r2 score on test data"
      ]
    },
    {
      "cell_type": "code",
      "metadata": {
        "id": "CAORqq_pCaGZ",
        "outputId": "ee56473f-87b3-45c0-9b7c-958415f9fb98"
      },
      "source": [
        "r2_score(y_test,pred)  #r2 score on test data using RandomForestClassifier"
      ],
      "execution_count": null,
      "outputs": [
        {
          "output_type": "execute_result",
          "data": {
            "text/plain": [
              "0.5619496018548531"
            ]
          },
          "metadata": {
            "tags": []
          },
          "execution_count": 61
        }
      ]
    },
    {
      "cell_type": "markdown",
      "metadata": {
        "id": "7xwMjPvWCaGa"
      },
      "source": [
        "# Data Visualization"
      ]
    },
    {
      "cell_type": "code",
      "metadata": {
        "id": "1aQi3JSNCaGa",
        "outputId": "d08a3c60-ba79-4045-b933-5a5e6ebad7c3"
      },
      "source": [
        "pd.scatter_matrix(apps2.loc[:,'Rating':'Price'],figsize=(15,8))"
      ],
      "execution_count": null,
      "outputs": [
        {
          "output_type": "stream",
          "text": [
            "C:\\ProgramData\\Anaconda3\\lib\\site-packages\\ipykernel_launcher.py:1: FutureWarning: pandas.scatter_matrix is deprecated. Use pandas.plotting.scatter_matrix instead\n",
            "  \"\"\"Entry point for launching an IPython kernel.\n"
          ],
          "name": "stderr"
        },
        {
          "output_type": "execute_result",
          "data": {
            "text/plain": [
              "array([[<matplotlib.axes._subplots.AxesSubplot object at 0x000001B78645A550>,\n",
              "        <matplotlib.axes._subplots.AxesSubplot object at 0x000001B786463668>,\n",
              "        <matplotlib.axes._subplots.AxesSubplot object at 0x000001B78645CA58>,\n",
              "        <matplotlib.axes._subplots.AxesSubplot object at 0x000001B786467908>,\n",
              "        <matplotlib.axes._subplots.AxesSubplot object at 0x000001B7866AB7B8>],\n",
              "       [<matplotlib.axes._subplots.AxesSubplot object at 0x000001B7866AB7F0>,\n",
              "        <matplotlib.axes._subplots.AxesSubplot object at 0x000001B789201208>,\n",
              "        <matplotlib.axes._subplots.AxesSubplot object at 0x000001B789227EB8>,\n",
              "        <matplotlib.axes._subplots.AxesSubplot object at 0x000001B78926A048>,\n",
              "        <matplotlib.axes._subplots.AxesSubplot object at 0x000001B7892A3048>],\n",
              "       [<matplotlib.axes._subplots.AxesSubplot object at 0x000001B7892DA0B8>,\n",
              "        <matplotlib.axes._subplots.AxesSubplot object at 0x000001B7892F0048>,\n",
              "        <matplotlib.axes._subplots.AxesSubplot object at 0x000001B78933C278>,\n",
              "        <matplotlib.axes._subplots.AxesSubplot object at 0x000001B789371278>,\n",
              "        <matplotlib.axes._subplots.AxesSubplot object at 0x000001B7893A97B8>],\n",
              "       [<matplotlib.axes._subplots.AxesSubplot object at 0x000001B7893E27B8>,\n",
              "        <matplotlib.axes._subplots.AxesSubplot object at 0x000001B78940F358>,\n",
              "        <matplotlib.axes._subplots.AxesSubplot object at 0x000001B789450278>,\n",
              "        <matplotlib.axes._subplots.AxesSubplot object at 0x000001B7894892E8>,\n",
              "        <matplotlib.axes._subplots.AxesSubplot object at 0x000001B7894C12E8>],\n",
              "       [<matplotlib.axes._subplots.AxesSubplot object at 0x000001B7894F92E8>,\n",
              "        <matplotlib.axes._subplots.AxesSubplot object at 0x000001B789520DD8>,\n",
              "        <matplotlib.axes._subplots.AxesSubplot object at 0x000001B78955BE48>,\n",
              "        <matplotlib.axes._subplots.AxesSubplot object at 0x000001B789594E48>,\n",
              "        <matplotlib.axes._subplots.AxesSubplot object at 0x000001B7895CEE48>]],\n",
              "      dtype=object)"
            ]
          },
          "metadata": {
            "tags": []
          },
          "execution_count": 62
        },
        {
          "output_type": "display_data",
          "data": {
            "image/png": "[encoded data removed]",
            "text/plain": [
              "<matplotlib.figure.Figure at 0x1b786458be0>"
            ]
          },
          "metadata": {
            "tags": []
          }
        }
      ]
    },
    {
      "cell_type": "code",
      "metadata": {
        "id": "TeizKzFvCaGb",
        "outputId": "85e50934-2ac8-4b09-d9a6-57d1d7a9abf5"
      },
      "source": [
        "plt.figure(figsize=(12,7))\n",
        "plt.scatter(apps2['Reviews'],apps2['Rating'],c=\"peru\",s=100,edgecolors=\"r\",linewidths=1)\n",
        "\n",
        "plt.xlabel('Reviews')\n",
        "plt.ylabel('Rating')\n",
        "plt.title('Reviews Vs Rating Graph')"
      ],
      "execution_count": null,
      "outputs": [
        {
          "output_type": "execute_result",
          "data": {
            "text/plain": [
              "Text(0.5,1,'Reviews Vs Rating Graph')"
            ]
          },
          "metadata": {
            "tags": []
          },
          "execution_count": 63
        },
        {
          "output_type": "display_data",
          "data": {
            "image/png": "[encoded data removed]",
            "text/plain": [
              "<matplotlib.figure.Figure at 0x1b789628748>"
            ]
          },
          "metadata": {
            "tags": []
          }
        }
      ]
    },
    {
      "cell_type": "code",
      "metadata": {
        "id": "yk2mkFevCaGc",
        "outputId": "c1463b09-9b22-42a0-ac46-965ea1171823"
      },
      "source": [
        "plt.figure(figsize=(20,8))\n",
        "plt.scatter(apps2['Installs'],apps2['Rating'],c=\"darkcyan\",s=200,edgecolors=\"r\",linewidths=1)\n",
        "\n",
        "plt.xlabel('Installs')\n",
        "plt.ylabel('Rating')\n",
        "plt.title('Installs Vs Rating Graph')"
      ],
      "execution_count": null,
      "outputs": [
        {
          "output_type": "execute_result",
          "data": {
            "text/plain": [
              "Text(0.5,1,'Installs Vs Rating Graph')"
            ]
          },
          "metadata": {
            "tags": []
          },
          "execution_count": 64
        },
        {
          "output_type": "display_data",
          "data": {
            "image/png": "[encoded data removed]",
            "text/plain": [
              "<matplotlib.figure.Figure at 0x1b789640358>"
            ]
          },
          "metadata": {
            "tags": []
          }
        }
      ]
    },
    {
      "cell_type": "code",
      "metadata": {
        "id": "zXlq_PY-CaGi",
        "outputId": "493d8242-b360-4ca3-f35b-9da4804dbd77"
      },
      "source": [
        "plt.figure(figsize=(10,7))\n",
        "plt.scatter(apps2['Installs'],apps2['Reviews'],c=\"plum\",s=100,edgecolors=\"r\",linewidths=1)\n",
        "\n",
        "plt.xlabel('Installs')\n",
        "plt.ylabel('Reviews')\n",
        "plt.title('Reviews Vs Installs Graph')"
      ],
      "execution_count": null,
      "outputs": [
        {
          "output_type": "execute_result",
          "data": {
            "text/plain": [
              "Text(0.5,1,'Reviews Vs Installs Graph')"
            ]
          },
          "metadata": {
            "tags": []
          },
          "execution_count": 65
        },
        {
          "output_type": "display_data",
          "data": {
            "image/png": "[encoded data removed]",
            "text/plain": [
              "<matplotlib.figure.Figure at 0x1b789879898>"
            ]
          },
          "metadata": {
            "tags": []
          }
        }
      ]
    },
    {
      "cell_type": "code",
      "metadata": {
        "id": "V7H8S2S3CaGj",
        "outputId": "d43e88e7-e14f-4205-8ee2-f2c9f385d8fd"
      },
      "source": [
        "plt.figure(figsize=(12,7))\n",
        "temp=apps2.corr()\n",
        "sns.heatmap(temp,\n",
        "            xticklabels=temp.columns.values,\n",
        "            yticklabels=temp.columns.values,\n",
        "            annot=True) "
      ],
      "execution_count": null,
      "outputs": [
        {
          "output_type": "execute_result",
          "data": {
            "text/plain": [
              "<matplotlib.axes._subplots.AxesSubplot at 0x1b7897a3390>"
            ]
          },
          "metadata": {
            "tags": []
          },
          "execution_count": 66
        },
        {
          "output_type": "display_data",
          "data": {
            "image/png": "[encoded data removed]",
            "text/plain": [
              "<matplotlib.figure.Figure at 0x1b78961b5c0>"
            ]
          },
          "metadata": {
            "tags": []
          }
        }
      ]
    },
    {
      "cell_type": "code",
      "metadata": {
        "id": "gNdLOJgHCaGk"
      },
      "source": [
        ""
      ],
      "execution_count": null,
      "outputs": []
    }
  ]
}